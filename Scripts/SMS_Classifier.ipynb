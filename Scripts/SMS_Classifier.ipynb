{
 "cells": [
  {
   "cell_type": "markdown",
   "id": "2ffaee85",
   "metadata": {},
   "source": [
    "# IMPORT LIBRARIES"
   ]
  },
  {
   "cell_type": "code",
   "execution_count": 39,
   "id": "11b8f8d3",
   "metadata": {},
   "outputs": [],
   "source": [
    "import os\n",
    "import numpy as np\n",
    "import pandas as pd\n",
    "\n",
    "import csv\n",
    "import re\n",
    "import string\n",
    "import pickle\n",
    "\n",
    "import seaborn as sns\n",
    "\n",
    "import nltk\n",
    "from nltk import word_tokenize\n",
    "\n",
    "import matplotlib.pyplot as plt\n",
    "%matplotlib inline"
   ]
  },
  {
   "cell_type": "code",
   "execution_count": 2,
   "id": "1df9a75b",
   "metadata": {},
   "outputs": [],
   "source": [
    "%config Completer.use_jedi = False"
   ]
  },
  {
   "cell_type": "code",
   "execution_count": 3,
   "id": "0a23b2e8",
   "metadata": {},
   "outputs": [],
   "source": [
    "pd.set_option(\"max_colwidth\", 200)"
   ]
  },
  {
   "cell_type": "markdown",
   "id": "3696c722",
   "metadata": {},
   "source": [
    "# EXTRACT and LOAD DATA"
   ]
  },
  {
   "cell_type": "markdown",
   "id": "e4e7545a",
   "metadata": {},
   "source": [
    "The dataset is a file named SMSSpamCollection with 2 features - the target label which is ***ham/spam*** and the corresponding ***text*** message. The following lines of code extracts the data and loads into a pandas dataframe."
   ]
  },
  {
   "cell_type": "code",
   "execution_count": 4,
   "id": "14399e63",
   "metadata": {},
   "outputs": [],
   "source": [
    "os.chdir(\"..\")"
   ]
  },
  {
   "cell_type": "code",
   "execution_count": 5,
   "id": "9f3c3152",
   "metadata": {},
   "outputs": [],
   "source": [
    "dataset_path = os.path.join(os.getcwd(), \n",
    "                            'Dataset\\\\SMSSpamCollection')\n",
    "\n",
    "column_names = [\n",
    "    'Label', \n",
    "    'Text'\n",
    "    ]\n",
    "sms_df = pd.read_csv(dataset_path, \n",
    "                     sep=\"\\t\", \n",
    "                     header=None, \n",
    "                     encoding=\"utf-8\", \n",
    "                     quoting=csv.QUOTE_NONE, \n",
    "                     names=column_names)"
   ]
  },
  {
   "cell_type": "markdown",
   "id": "91568f44",
   "metadata": {},
   "source": [
    "# EXPLORE DATA"
   ]
  },
  {
   "cell_type": "markdown",
   "id": "7c4139d3",
   "metadata": {},
   "source": [
    "Exploring the dataset is important to understand the features present in the data and how they impact the target label. The *info()* gives the information regarding the columns present and the no. of entries in the dataset. "
   ]
  },
  {
   "cell_type": "code",
   "execution_count": 6,
   "id": "4697c036",
   "metadata": {},
   "outputs": [
    {
     "name": "stdout",
     "output_type": "stream",
     "text": [
      "<class 'pandas.core.frame.DataFrame'>\n",
      "RangeIndex: 5574 entries, 0 to 5573\n",
      "Data columns (total 2 columns):\n",
      " #   Column  Non-Null Count  Dtype \n",
      "---  ------  --------------  ----- \n",
      " 0   Label   5574 non-null   object\n",
      " 1   Text    5574 non-null   object\n",
      "dtypes: object(2)\n",
      "memory usage: 87.2+ KB\n"
     ]
    }
   ],
   "source": [
    "sms_df.info()"
   ]
  },
  {
   "cell_type": "code",
   "execution_count": 7,
   "id": "f1e6dd8f",
   "metadata": {},
   "outputs": [],
   "source": [
    "ham_count, spam_count = list(sms_df['Label'].value_counts())"
   ]
  },
  {
   "cell_type": "markdown",
   "id": "d7fecee1",
   "metadata": {},
   "source": [
    "### Count of SPAM and HAM text messages "
   ]
  },
  {
   "cell_type": "code",
   "execution_count": 68,
   "id": "8946315d",
   "metadata": {},
   "outputs": [
    {
     "data": {
      "image/png": "[encoded data removed]",
      "text/plain": [
       "<Figure size 576x432 with 1 Axes>"
      ]
     },
     "metadata": {},
     "output_type": "display_data"
    }
   ],
   "source": [
    "sns.set(rc = {'figure.figsize':(8,6)})\n",
    "ax = sns.countplot(x='Label', \n",
    "                  data=sms_df)\n",
    "ax.set_title('SPAM and HAM label counts', \n",
    "             fontsize=15)\n",
    "for label in ax.containers:\n",
    "    ax.bar_label(label)"
   ]
  },
  {
   "cell_type": "markdown",
   "id": "68bb2db9",
   "metadata": {},
   "source": [
    "The count of SPAM and HAM text messages are uneven. Due to imbalanced data, the training of the model becomes difficult as it might tend to bias."
   ]
  },
  {
   "cell_type": "markdown",
   "id": "126698cd",
   "metadata": {},
   "source": [
    "### Character length of text messages "
   ]
  },
  {
   "cell_type": "code",
   "execution_count": 9,
   "id": "b25cbb83",
   "metadata": {},
   "outputs": [
    {
     "data": {
      "text/plain": [
       "2       Free entry in 2 a wkly comp to win FA Cup final tkts 21st May 2005. Text FA to 87121 to receive entry question(std txt rate)T&C's apply 08452810075over18's\n",
       "5               FreeMsg Hey there darling it's been 3 week's now and no word back! I'd like some fun you up for it still? Tb ok! XxX std chgs to send, £1.50 to rcv\n",
       "8     WINNER!! As a valued network customer you have been selected to receivea £900 prize reward! To claim call 09061701461. Claim code KL341. Valid 12 hours only.\n",
       "9        Had your mobile 11 months or more? U R entitled to Update to the latest colour mobiles with camera for Free! Call The Mobile Update Co FREE on 08002986030\n",
       "11                         SIX chances to win CASH! From 100 to 20,000 pounds txt> CSH11 and send to 87575. Cost 150p/day, 6days, 16+ TsandCs apply Reply HL 4 info\n",
       "Name: Text, dtype: object"
      ]
     },
     "execution_count": 9,
     "metadata": {},
     "output_type": "execute_result"
    }
   ],
   "source": [
    "sms_df[sms_df['Label'] == 'spam']['Text'][:5]"
   ]
  },
  {
   "cell_type": "code",
   "execution_count": 10,
   "id": "b02d33d5",
   "metadata": {},
   "outputs": [
    {
     "data": {
      "text/plain": [
       "0    Go until jurong point, crazy.. Available only in bugis n great world la e buffet... Cine there got amore wat...\n",
       "1                                                                                      Ok lar... Joking wif u oni...\n",
       "3                                                                  U dun say so early hor... U c already then say...\n",
       "4                                                      Nah I don't think he goes to usf, he lives around here though\n",
       "6                                      Even my brother is not like to speak with me. They treat me like aids patent.\n",
       "Name: Text, dtype: object"
      ]
     },
     "execution_count": 10,
     "metadata": {},
     "output_type": "execute_result"
    }
   ],
   "source": [
    "sms_df[sms_df['Label'] == 'ham']['Text'][:5]"
   ]
  },
  {
   "cell_type": "code",
   "execution_count": 37,
   "id": "97489535",
   "metadata": {},
   "outputs": [
    {
     "data": {
      "text/html": [
       "<div>\n",
       "<style scoped>\n",
       "    .dataframe tbody tr th:only-of-type {\n",
       "        vertical-align: middle;\n",
       "    }\n",
       "\n",
       "    .dataframe tbody tr th {\n",
       "        vertical-align: top;\n",
       "    }\n",
       "\n",
       "    .dataframe thead th {\n",
       "        text-align: right;\n",
       "    }\n",
       "</style>\n",
       "<table border=\"1\" class=\"dataframe\">\n",
       "  <thead>\n",
       "    <tr style=\"text-align: right;\">\n",
       "      <th></th>\n",
       "      <th>Label</th>\n",
       "      <th>Char_Length</th>\n",
       "    </tr>\n",
       "  </thead>\n",
       "  <tbody>\n",
       "    <tr>\n",
       "      <th>0</th>\n",
       "      <td>ham</td>\n",
       "      <td>71.471929</td>\n",
       "    </tr>\n",
       "    <tr>\n",
       "      <th>1</th>\n",
       "      <td>spam</td>\n",
       "      <td>138.676037</td>\n",
       "    </tr>\n",
       "  </tbody>\n",
       "</table>\n",
       "</div>"
      ],
      "text/plain": [
       "  Label  Char_Length\n",
       "0   ham    71.471929\n",
       "1  spam   138.676037"
      ]
     },
     "execution_count": 37,
     "metadata": {},
     "output_type": "execute_result"
    }
   ],
   "source": [
    "sms_df['Char_Length'] = sms_df['Text'].apply(len)\n",
    "avg_len_df = sms_df.groupby('Label', \n",
    "                            as_index=False)['Char_Length'].mean()\n",
    "avg_len_df"
   ]
  },
  {
   "cell_type": "code",
   "execution_count": 65,
   "id": "70d6deea",
   "metadata": {},
   "outputs": [
    {
     "data": {
      "text/plain": [
       "Text(0.5, 1.0, 'Distribution of character length w.r.t label')"
      ]
     },
     "execution_count": 65,
     "metadata": {},
     "output_type": "execute_result"
    },
    {
     "data": {
      "image/png": "[encoded data removed]",
      "text/plain": [
       "<Figure size 1296x504 with 2 Axes>"
      ]
     },
     "metadata": {
      "needs_background": "light"
     },
     "output_type": "display_data"
    }
   ],
   "source": [
    "figure, ax = plt.subplots(1, 2,\n",
    "                         figsize=(18,7))\n",
    "\n",
    "figure.suptitle('Graphs w.r.t character length', fontsize=18)\n",
    "\n",
    "plt.subplot(1, 2, 1)\n",
    "ax[0] = sns.barplot(x='Label', \n",
    "                    y='Char_Length',\n",
    "                    data=avg_len_df)\n",
    "ax[0].set_title('Average character length of text w.r.t label', \n",
    "                fontsize=15)\n",
    "for label in ax[0].containers:\n",
    "    ax[0].bar_label(label)\n",
    "\n",
    "plt.subplot(1, 2, 2)\n",
    "ax[1] = sns.histplot(x='Char_Length',\n",
    "                     hue='Label',\n",
    "                     stat='count',\n",
    "                     data=sms_df,\n",
    "                     bins=40,\n",
    "                     kde=True)\n",
    "ax[1].set_title('Distribution of character length w.r.t label', \n",
    "                fontsize=15)"
   ]
  },
  {
   "cell_type": "markdown",
   "id": "eed6bd94",
   "metadata": {},
   "source": [
    "Average character length of HAM text messages is less than the other. The average text length of *HAM* and *SPAM* text messages is approximately 71 and 138 respectively."
   ]
  },
  {
   "cell_type": "markdown",
   "id": "8d5fa5a0",
   "metadata": {},
   "source": [
    "### Word length of text messages "
   ]
  },
  {
   "cell_type": "code",
   "execution_count": 58,
   "id": "ebddad0c",
   "metadata": {},
   "outputs": [
    {
     "data": {
      "text/html": [
       "<div>\n",
       "<style scoped>\n",
       "    .dataframe tbody tr th:only-of-type {\n",
       "        vertical-align: middle;\n",
       "    }\n",
       "\n",
       "    .dataframe tbody tr th {\n",
       "        vertical-align: top;\n",
       "    }\n",
       "\n",
       "    .dataframe thead th {\n",
       "        text-align: right;\n",
       "    }\n",
       "</style>\n",
       "<table border=\"1\" class=\"dataframe\">\n",
       "  <thead>\n",
       "    <tr style=\"text-align: right;\">\n",
       "      <th></th>\n",
       "      <th>Label</th>\n",
       "      <th>Word_Length</th>\n",
       "    </tr>\n",
       "  </thead>\n",
       "  <tbody>\n",
       "    <tr>\n",
       "      <th>0</th>\n",
       "      <td>ham</td>\n",
       "      <td>17.434846</td>\n",
       "    </tr>\n",
       "    <tr>\n",
       "      <th>1</th>\n",
       "      <td>spam</td>\n",
       "      <td>27.998661</td>\n",
       "    </tr>\n",
       "  </tbody>\n",
       "</table>\n",
       "</div>"
      ],
      "text/plain": [
       "  Label  Word_Length\n",
       "0   ham    17.434846\n",
       "1  spam    27.998661"
      ]
     },
     "execution_count": 58,
     "metadata": {},
     "output_type": "execute_result"
    }
   ],
   "source": [
    "sms_df['Word_Length'] = sms_df['Text'].apply(lambda x: len(nltk.word_tokenize(x)))\n",
    "avg_wordlen_df = sms_df.groupby('Label', \n",
    "                                as_index=False)['Word_Length'].mean()\n",
    "avg_wordlen_df"
   ]
  },
  {
   "cell_type": "code",
   "execution_count": 66,
   "id": "bdb320f6",
   "metadata": {},
   "outputs": [
    {
     "data": {
      "text/plain": [
       "Text(0.5, 1.0, 'Distribution of word length w.r.t label')"
      ]
     },
     "execution_count": 66,
     "metadata": {},
     "output_type": "execute_result"
    },
    {
     "data": {
      "image/png": "[encoded data removed]",
      "text/plain": [
       "<Figure size 1080x504 with 2 Axes>"
      ]
     },
     "metadata": {
      "needs_background": "light"
     },
     "output_type": "display_data"
    }
   ],
   "source": [
    "figure, ax = plt.subplots(1, 2,\n",
    "                         figsize=(15,7))\n",
    "\n",
    "figure.suptitle('Graphs w.r.t word length', \n",
    "                fontsize=18)\n",
    "\n",
    "plt.subplot(1, 2, 1)\n",
    "ax[0] = sns.barplot(x='Label', \n",
    "                    y='Word_Length',\n",
    "                    data=avg_wordlen_df)\n",
    "ax[0].set_title('Average word length of text w.r.t label', \n",
    "                fontsize=15)\n",
    "for label in ax[0].containers:\n",
    "    ax[0].bar_label(label)\n",
    "\n",
    "plt.subplot(1, 2, 2)\n",
    "ax[1] = sns.histplot(x='Word_Length',\n",
    "                     hue='Label',\n",
    "                     stat='count',\n",
    "                     data=sms_df,\n",
    "                     bins=40,\n",
    "                     kde=True)\n",
    "ax[1].set_title('Distribution of word length w.r.t label', \n",
    "                fontsize=15)"
   ]
  },
  {
   "cell_type": "markdown",
   "id": "777b23c0",
   "metadata": {},
   "source": [
    "Average word length of HAM text messages is less than the other. The average word length of HAM and SPAM text messages is approximately 17 and 28 respectively."
   ]
  },
  {
   "cell_type": "markdown",
   "id": "a0604d40",
   "metadata": {},
   "source": [
    "# PRE-PROCESS DATA"
   ]
  },
  {
   "cell_type": "code",
   "execution_count": 13,
   "id": "c31af91b",
   "metadata": {},
   "outputs": [],
   "source": [
    "contractions_dict = {     \n",
    "    \"ain't\": \"am not\",\n",
    "    \"aren't\": \"are not\",\n",
    "    \"can't\": \"cannot\",\n",
    "    \"can't've\": \"cannot have\",\n",
    "    \"'cause\": \"because\",\n",
    "    \"could've\": \"could have\",\n",
    "    \"couldn't\": \"could not\",\n",
    "    \"couldn't've\": \"could not have\",\n",
    "    \"didn't\": \"did not\",\n",
    "    \"doesn't\": \"does not\",\n",
    "    \"don't\": \"do not\",\n",
    "    \"hadn't\": \"had not\",\n",
    "    \"hadn't've\": \"had not have\",\n",
    "    \"hasn't\": \"has not\",\n",
    "    \"haven't\": \"have not\",\n",
    "    \"he'd\": \"he had\",\n",
    "    \"he'd've\": \"he would have\",\n",
    "    \"he'll\": \"he will\",\n",
    "    \"he'll've\": \"he will have\",\n",
    "    \"he's\": \"he is\",\n",
    "    \"how'd\": \"how did\",\n",
    "    \"how'd'y\": \"how do you\",\n",
    "    \"how'll\": \"how will\",\n",
    "    \"how's\": \"how is\",\n",
    "    \"I'd\": \"I had\",\n",
    "    \"I'd've\": \"I would have\",\n",
    "    \"I'll\": \"I will\",\n",
    "    \"I'll've\": \"I will have\",\n",
    "    \"I'm\": \"I am\",\n",
    "    \"I've\": \"I have\",\n",
    "    \"isn't\": \"is not\",\n",
    "    \"it'd\": \"it had\",\n",
    "    \"it'd've\": \"it would have\",\n",
    "    \"it'll\": \"it will\",\n",
    "    \"it'll've\": \"iit will have\",\n",
    "    \"it's\": \"it is\",\n",
    "    \"let's\": \"let us\",\n",
    "    \"ma'am\": \"madam\",\n",
    "    \"mayn't\": \"may not\",\n",
    "    \"might've\": \"might have\",\n",
    "    \"mightn't\": \"might not\",\n",
    "    \"mightn't've\": \"might not have\",\n",
    "    \"must've\": \"must have\",\n",
    "    \"mustn't\": \"must not\",\n",
    "    \"mustn't've\": \"must not have\",\n",
    "    \"needn't\": \"need not\",\n",
    "    \"needn't've\": \"need not have\",\n",
    "    \"o'clock\": \"of the clock\",\n",
    "    \"oughtn't\": \"ought not\",\n",
    "    \"oughtn't've\": \"ought not have\",\n",
    "    \"shan't\": \"shall not\",\n",
    "    \"sha'n't\": \"shall not\",\n",
    "    \"shan't've\": \"shall not have\",\n",
    "    \"she'd\": \"she had\",\n",
    "    \"she'd've\": \"she would have\",\n",
    "    \"she'll\": \"she will\",\n",
    "    \"she'll've\": \"she will have\",\n",
    "    \"she's\": \"she is\",\n",
    "    \"should've\": \"should have\",\n",
    "    \"shouldn't\": \"should not\",\n",
    "    \"shouldn't've\": \"should not have\",\n",
    "    \"so've\": \"so have\",\n",
    "    \"so's\": \"so is\",\n",
    "    \"that'd\": \"that had\",\n",
    "    \"that'd've\": \"that would have\",\n",
    "    \"that's\": \"that is\",\n",
    "    \"there'd\": \"there had\",\n",
    "    \"there'd've\": \"there would have\",\n",
    "    \"there's\": \"there is\",\n",
    "    \"they'd\": \"they had\",\n",
    "    \"they'd've\": \"they would have\",\n",
    "    \"they'll\": \"they will\",\n",
    "    \"they'll've\": \"they will have\",\n",
    "    \"they're\": \"they are\",\n",
    "    \"they've\": \"they have\",\n",
    "    \"to've\": \"to have\",\n",
    "    \"wasn't\": \"was not\",\n",
    "    \"we'd\": \"we had\",\n",
    "    \"we'd've\": \"we would have\",\n",
    "    \"we'll\": \"we will\",\n",
    "    \"we'll've\": \"we will have\",\n",
    "    \"we're\": \"we are\",\n",
    "    \"we've\": \"we have\",\n",
    "    \"weren't\": \"were not\",\n",
    "    \"what'll\": \"what will\",\n",
    "    \"what'll've\": \"what will have\",\n",
    "    \"what're\": \"what are\",\n",
    "    \"what's\": \"what is\",\n",
    "    \"what've\": \"what have\",\n",
    "    \"when's\": \"when is\",\n",
    "    \"when've\": \"when have\",\n",
    "    \"where'd\": \"where did\",\n",
    "    \"where's\": \"where is\",\n",
    "    \"where've\": \"where have\",\n",
    "    \"who'll\": \"who will\",\n",
    "    \"who'll've\": \"who will have\",\n",
    "    \"who's\": \"who is\",\n",
    "    \"who've\": \"who have\",\n",
    "    \"why's\": \"why is\",\n",
    "    \"why've\": \"why have\",\n",
    "    \"will've\": \"will have\",\n",
    "    \"won't\": \"will not\",\n",
    "    \"won't've\": \"will not have\",\n",
    "    \"would've\": \"would have\",\n",
    "    \"wouldn't\": \"would not\",\n",
    "    \"wouldn't've\": \"would not have\",\n",
    "    \"y'all\": \"you all\",\n",
    "    \"y'all'd\": \"you all would\",\n",
    "    \"y'all'd've\": \"you all would have\",\n",
    "    \"y'all're\": \"you all are\",\n",
    "    \"y'all've\": \"you all have\",\n",
    "    \"you'd\": \"you had\",\n",
    "    \"you'd've\": \"you would have\",\n",
    "    \"you'll\": \"you will\",\n",
    "    \"you'll've\": \"you will have\",\n",
    "    \"you're\": \"you are\",\n",
    "    \"you've\": \"you have\"\n",
    "}"
   ]
  },
  {
   "cell_type": "code",
   "execution_count": null,
   "id": "fa7d8bc9",
   "metadata": {},
   "outputs": [],
   "source": [
    "# Formatting text\n",
    "def format_text(text):\n",
    "    \n",
    "    # Remove hyperlinks\n",
    "    url = '((http|https)://)[a-zA-Z0-9.]+(com)?[a-zA-Z0-9./]*|((http|https)//)[a-zA-Z0-9.]+' \\ \n",
    "          '(com)?[a-zA-Z0-9./]*|((http|https)://www.)[a-zA-Z0-9.]+(com)?[a-zA-Z0-9./]*|((http|https)//www.)' \\\n",
    "          '[a-zA-Z0-9.]+(com)[a-zA-Z0-9./]*?|(www.)[a-zA-Z0-9.]+(com)?[a-zA-Z0-9./]*'\n",
    "    text = re.sub(url,\n",
    "                  \"\", \n",
    "                  text)\n",
    "    \n",
    "    # Remove alphanumeric\n",
    "    alphnum = '\\w*\\d\\w*'\n",
    "    text = re.sub(alphnum,\n",
    "                  \"\", \n",
    "                  text)\n",
    "    \n",
    "    ## Remove html tags\n",
    "    html = re.compile(r'<.*?>')\n",
    "    text = html.sub(r'', \n",
    "                    text)\n",
    "    \n",
    "    # Remove contractions\n",
    "    def expand_contractions(text, \n",
    "                            contractions_dict):\n",
    "        \n",
    "        contractions_pattern = re.compile('({})'.format('|'.join(contractions_dict.keys())), \n",
    "                                          flags=re.IGNORECASE | re.DOTALL)\n",
    "\n",
    "        def expand_match(contraction):\n",
    "            \n",
    "            match = contraction.group(0)\n",
    "            first_char = match[0]\n",
    "            \n",
    "            expanded_contraction = contractions_dict.get(match) \\\n",
    "                if contractions_dict.get(match) \\\n",
    "                else contractions_dict.get(match.lower())\n",
    "            expanded_contraction = expanded_contraction\n",
    "            \n",
    "            return expanded_contraction\n",
    "\n",
    "        expanded_text = contractions_pattern.sub(expand_match, \n",
    "                                                 text)\n",
    "        expanded_text = re.sub(\"'\", \n",
    "                               \"\", \n",
    "                               expanded_text)\n",
    "        \n",
    "        return expanded_text\n",
    "\n",
    "    text = expand_contractions(text, \n",
    "                               contractions_dict)\n",
    "    \n",
    "    # Remove junk character\n",
    "    text = text.encode(\"ascii\", \n",
    "                       \"ignore\").decode(\"utf-8\", \n",
    "                                        \"ignore\")    \n",
    "\n",
    "    # Remove punctuation\n",
    "    text = \"\".join([char for char in text if char not in string.punctuation])\n",
    "    \n",
    "    # Remove white spaces\n",
    "    text = \" \".join(text.split())\n",
    "    \n",
    "    # Tokenize tweets\n",
    "    text = word_tokenize(text.lower())\n",
    "    \n",
    "    # Remove stop words\n",
    "    stopwords = nltk.corpus.stopwords.words('english')\n",
    "    text = [word for word in text if word not in stopwords]\n",
    "    \n",
    "    # Apply lemmatization\n",
    "    wn = nltk.WordNetLemmatizer()\n",
    "    text = [wn.lemmatize(word) for word in text]\n",
    "    \n",
    "    return text\n"
   ]
  }
 ],
 "metadata": {
  "kernelspec": {
   "display_name": "Python 3 (ipykernel)",
   "language": "python",
   "name": "python3"
  },
  "language_info": {
   "codemirror_mode": {
    "name": "ipython",
    "version": 3
   },
   "file_extension": ".py",
   "mimetype": "text/x-python",
   "name": "python",
   "nbconvert_exporter": "python",
   "pygments_lexer": "ipython3",
   "version": "3.9.12"
  }
 },
 "nbformat": 4,
 "nbformat_minor": 5
}
